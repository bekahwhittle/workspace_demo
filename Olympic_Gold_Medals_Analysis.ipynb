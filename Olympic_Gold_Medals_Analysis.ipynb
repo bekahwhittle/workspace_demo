# Olympic Gold Medals Analysis

This Jupyter Notebook is designed to count gold medals per country by Olympic year. It includes sections for data loading, data cleaning, analysis, and visualization.

## Data Loading

```python
import pandas as pd

# Load the sample dataset
data = pd.read_csv('olympic_gold_medals.csv')
```

## Data Cleaning

```python
# Clean the dataset to ensure it is suitable for analysis
# Assuming the dataset might contain null values or duplicates which need to be handled

data.dropna(inplace=True)  # Remove any rows with missing values
data.drop_duplicates(inplace=True)  # Remove any duplicate rows
```

## Analysis

```python
# Analyze the data to count gold medals per country by Olympic year

medals_per_country_year = data.groupby(['Country', 'Year'])['Gold'].sum().reset_index()
```

## Visualization

```python
import matplotlib.pyplot as plt
import seaborn as sns

# Visualize the results using a bar chart

plt.figure(figsize=(10, 6))
sns.barplot(x='Year', y='Gold', hue='Country', data=medals_per_country_year)
plt.title('Gold Medals per Country by Olympic Year')
plt.xlabel('Year')
plt.ylabel('Gold Medals')
plt.legend(title='Country')
plt.show()
```

## Documentation

This notebook provides a straightforward method for analyzing and visualizing the distribution of Olympic gold medals per country by year. The dataset used is a sample and should be replaced with a comprehensive dataset for more detailed analysis.
